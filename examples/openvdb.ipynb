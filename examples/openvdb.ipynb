{
 "cells": [
  {
   "cell_type": "code",
   "execution_count": 18,
   "id": "89381f10",
   "metadata": {},
   "outputs": [],
   "source": [
    "# NOTICE:\n",
    "# Install pyopenvdb by 'conda install -c conda-forge openvdb'\n",
    "# Do NOT install it with pip\n",
    "\n",
    "import numpy as np\n",
    "import pyopenvdb as vdb\n",
    "import taichi_volume_renderer\n",
    "\n",
    "# Import VDB file\n",
    "file_path = \"data/cloud.vdb\"\n",
    "data = vdb.readAll(file_path)\n",
    "grids = data[0]\n",
    "grid = grids[0]"
   ]
  },
  {
   "cell_type": "code",
   "execution_count": null,
   "id": "c28e1d81",
   "metadata": {},
   "outputs": [
    {
     "name": "stdout",
     "output_type": "stream",
     "text": [
      "class: fog volume\n",
      "file_bbox_max: (71, 49, 104)\n",
      "file_bbox_min: (-78, -51, -69)\n",
      "file_compression: blosc + active values\n",
      "file_mem_bytes: 6793192\n",
      "file_voxel_count: 690249\n",
      "is_local_space: False\n",
      "is_saved_as_half_float: False\n",
      "name: density\n",
      "value_type: float\n",
      "vector_type: invariant\n"
     ]
    }
   ],
   "source": [
    "# Print information of the volume\n",
    "for e in grid:\n",
    "    print(e + ':', grid[e])"
   ]
  },
  {
   "cell_type": "code",
   "execution_count": 20,
   "id": "9c41c9d8",
   "metadata": {},
   "outputs": [
    {
     "name": "stdout",
     "output_type": "stream",
     "text": [
      "resolution = 173\n",
      "[Taichi] Starting on arch=cuda\n"
     ]
    }
   ],
   "source": [
    "assert grid['class'] == 'fog volume'\n",
    "\n",
    "# Convert to NumPy\n",
    "file_bbox_min = np.array(grid['file_bbox_min'])\n",
    "file_bbox_max = np.array(grid['file_bbox_max'])\n",
    "resolution = np.max(file_bbox_max - file_bbox_min)\n",
    "print('resolution =', resolution)\n",
    "density = np.zeros([resolution, resolution, resolution])\n",
    "origin = np.array((file_bbox_max + file_bbox_min) / 2 - np.array(density.shape) / 2, dtype=int)\n",
    "grid.copyToArray(density, origin)\n",
    "density = np.transpose(density, [0, 2, 1])\n",
    "\n",
    "# Visualize the grid\n",
    "taichi_volume_renderer.plot_volume(density, smoke_density_factor=6)"
   ]
  },
  {
   "cell_type": "code",
   "execution_count": null,
   "id": "7d971046",
   "metadata": {},
   "outputs": [],
   "source": []
  }
 ],
 "metadata": {
  "kernelspec": {
   "display_name": "base",
   "language": "python",
   "name": "python3"
  },
  "language_info": {
   "codemirror_mode": {
    "name": "ipython",
    "version": 3
   },
   "file_extension": ".py",
   "mimetype": "text/x-python",
   "name": "python",
   "nbconvert_exporter": "python",
   "pygments_lexer": "ipython3",
   "version": "3.12.3"
  }
 },
 "nbformat": 4,
 "nbformat_minor": 5
}
